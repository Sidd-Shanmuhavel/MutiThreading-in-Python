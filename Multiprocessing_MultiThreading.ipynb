{
  "nbformat": 4,
  "nbformat_minor": 0,
  "metadata": {
    "colab": {
      "name": "Multiprocessing/MultiThreading.ipynb",
      "provenance": [],
      "collapsed_sections": [],
      "authorship_tag": "ABX9TyPvSR/aR0G9vttHqSHIJhRs",
      "include_colab_link": true
    },
    "kernelspec": {
      "name": "python3",
      "display_name": "Python 3"
    },
    "accelerator": "GPU"
  },
  "cells": [
    {
      "cell_type": "markdown",
      "metadata": {
        "id": "view-in-github",
        "colab_type": "text"
      },
      "source": [
        "<a href=\"https://colab.research.google.com/github/Sidd-Shanmuhavel/MutiThreading-in-Python/blob/master/Multiprocessing_MultiThreading.ipynb\" target=\"_parent\"><img src=\"https://colab.research.google.com/assets/colab-badge.svg\" alt=\"Open In Colab\"/></a>"
      ]
    },
    {
      "cell_type": "code",
      "metadata": {
        "id": "sypa2pTRWgdV",
        "colab_type": "code",
        "colab": {}
      },
      "source": [
        "import time\n",
        "\n",
        "def func1():\n",
        "  start = time.process_time()\n",
        "  print(\"Start time func1: \",start)\n",
        "  print('func1: starting')\n",
        "  for i in range(10000000): \n",
        "    pass\n",
        "  print('func1: finishing')\n",
        "  end = time.process_time()\n",
        "  print(\"end time func1: \",end)\n",
        "  print(\"time taken for func1: \",end-start)\n",
        "\n",
        "def func2():\n",
        "  start = time.process_time()\n",
        "  print(\"start time func2: \",start)\n",
        "  print('func2: starting')\n",
        "  for i in range(10000000): \n",
        "    pass\n",
        "  print('func2: finishing')\n",
        "  end = time.process_time()\n",
        "  print(\"end time func2: \",end)\n",
        "  print(\"time taken for func2: \",end-start)\n"
      ],
      "execution_count": 43,
      "outputs": []
    },
    {
      "cell_type": "code",
      "metadata": {
        "id": "XTCphA0zW1SU",
        "colab_type": "code",
        "colab": {
          "base_uri": "https://localhost:8080/",
          "height": 217
        },
        "outputId": "535963bd-d29a-4a9e-91e2-9b0ee152d8de"
      },
      "source": [
        "func1(),func2()"
      ],
      "execution_count": 44,
      "outputs": [
        {
          "output_type": "stream",
          "text": [
            "Start time func1:  10.316275811\n",
            "func1: starting\n",
            "func1: finishing\n",
            "end time func1:  10.519022132\n",
            "time taken for func1:  0.20274632099999934\n",
            "start time func2:  10.519666035\n",
            "func2: starting\n",
            "func2: finishing\n",
            "end time func2:  10.723663632000001\n",
            "time taken for func2:  0.20399759700000075\n"
          ],
          "name": "stdout"
        },
        {
          "output_type": "execute_result",
          "data": {
            "text/plain": [
              "(None, None)"
            ]
          },
          "metadata": {
            "tags": []
          },
          "execution_count": 44
        }
      ]
    },
    {
      "cell_type": "markdown",
      "metadata": {
        "id": "FG9zQwQ4mMgy",
        "colab_type": "text"
      },
      "source": [
        "We can see that func1 is called and executed first before func2 is called!"
      ]
    },
    {
      "cell_type": "code",
      "metadata": {
        "id": "WH0FYiVSmVgD",
        "colab_type": "code",
        "colab": {}
      },
      "source": [
        ""
      ],
      "execution_count": null,
      "outputs": []
    },
    {
      "cell_type": "code",
      "metadata": {
        "id": "y02t3D2hmVsS",
        "colab_type": "code",
        "colab": {}
      },
      "source": [
        ""
      ],
      "execution_count": null,
      "outputs": []
    },
    {
      "cell_type": "code",
      "metadata": {
        "id": "wvNSEG3KW6hG",
        "colab_type": "code",
        "colab": {
          "base_uri": "https://localhost:8080/",
          "height": 199
        },
        "outputId": "7a9673be-750e-48b0-fbc5-bfe84d99e251"
      },
      "source": [
        "from multiprocessing import Process\n",
        "if __name__ == '__main__':\n",
        "  p1 = Process(target=func1)\n",
        "  p1.start()\n",
        "  p2 = Process(target=func2)\n",
        "  p2.start()\n",
        "  p1.join()\n",
        "  p2.join()"
      ],
      "execution_count": 45,
      "outputs": [
        {
          "output_type": "stream",
          "text": [
            "Start time func1:  0.003065907\n",
            "func1: starting\n",
            "start time func2:  0.002483162\n",
            "func2: starting\n",
            "func1: finishing\n",
            "end time func1:  0.406000852\n",
            "time taken for func1:  0.40293494500000004\n",
            "func2: finishing\n",
            "end time func2:  0.403521248\n",
            "time taken for func2:  0.401038086\n"
          ],
          "name": "stdout"
        }
      ]
    },
    {
      "cell_type": "code",
      "metadata": {
        "id": "PdP_CKbvYtAX",
        "colab_type": "code",
        "colab": {
          "base_uri": "https://localhost:8080/",
          "height": 199
        },
        "outputId": "d0e53b7a-1b9b-40b5-b6d3-52ed672656e5"
      },
      "source": [
        "def runInParallel(*fns):\n",
        "  proc = []\n",
        "  for fn in fns:\n",
        "    p = Process(target=fn)\n",
        "    p.start()\n",
        "    proc.append(p)\n",
        "  for p in proc:\n",
        "    p.join()\n",
        "\n",
        "runInParallel(func1, func2)"
      ],
      "execution_count": 46,
      "outputs": [
        {
          "output_type": "stream",
          "text": [
            "Start time func1:  0.0027825700000000003\n",
            "start time func2:  0.002706528\n",
            "func1: starting\n",
            "func2: starting\n",
            "func2: finishing\n",
            "end time func2:  0.44002657700000003\n",
            "func1: finishing\n",
            "end time func1:  0.43863424900000003\n",
            "time taken for func2:  0.43732004900000004\n",
            "time taken for func1:  0.43585167900000005\n"
          ],
          "name": "stdout"
        }
      ]
    },
    {
      "cell_type": "markdown",
      "metadata": {
        "id": "eZAGfHSVmZYN",
        "colab_type": "text"
      },
      "source": [
        "Here func1 is called and before it ends, simultaneously func2 is also called. We can see that both the  functions are running parallely."
      ]
    },
    {
      "cell_type": "code",
      "metadata": {
        "id": "ujMgSRMsmp5g",
        "colab_type": "code",
        "colab": {}
      },
      "source": [
        ""
      ],
      "execution_count": null,
      "outputs": []
    },
    {
      "cell_type": "markdown",
      "metadata": {
        "id": "XzndMokYmqwJ",
        "colab_type": "text"
      },
      "source": [
        "The same is achieved using \"ray\" library\n"
      ]
    },
    {
      "cell_type": "code",
      "metadata": {
        "id": "Rs4rn8VIbx2B",
        "colab_type": "code",
        "colab": {}
      },
      "source": [
        "#!pip install ray"
      ],
      "execution_count": 47,
      "outputs": []
    },
    {
      "cell_type": "code",
      "metadata": {
        "id": "Xfxc9K34bBMd",
        "colab_type": "code",
        "colab": {
          "base_uri": "https://localhost:8080/",
          "height": 201
        },
        "outputId": "01026550-7618-4d42-927c-f595ecd245ff"
      },
      "source": [
        "import ray\n",
        "\n",
        "ray.init()"
      ],
      "execution_count": 58,
      "outputs": [
        {
          "output_type": "stream",
          "text": [
            "2020-06-23 23:11:09,100\tINFO resource_spec.py:212 -- Starting Ray with 7.28 GiB memory available for workers and up to 3.64 GiB for objects. You can adjust these settings with ray.init(memory=<bytes>, object_store_memory=<bytes>).\n",
            "2020-06-23 23:11:09,371\tINFO services.py:1170 -- View the Ray dashboard at \u001b[1m\u001b[32mlocalhost:8265\u001b[39m\u001b[22m\n"
          ],
          "name": "stderr"
        },
        {
          "output_type": "execute_result",
          "data": {
            "text/plain": [
              "{'node_ip_address': '172.28.0.2',\n",
              " 'object_store_address': '/tmp/ray/session_2020-06-23_23-11-09_098446_123/sockets/plasma_store',\n",
              " 'raylet_ip_address': '172.28.0.2',\n",
              " 'raylet_socket_name': '/tmp/ray/session_2020-06-23_23-11-09_098446_123/sockets/raylet',\n",
              " 'redis_address': '172.28.0.2:64991',\n",
              " 'session_dir': '/tmp/ray/session_2020-06-23_23-11-09_098446_123',\n",
              " 'webui_url': 'localhost:8265'}"
            ]
          },
          "metadata": {
            "tags": []
          },
          "execution_count": 58
        }
      ]
    },
    {
      "cell_type": "code",
      "metadata": {
        "id": "12OvzhRLbMQK",
        "colab_type": "code",
        "colab": {}
      },
      "source": [
        "@ray.remote\n",
        "def func1():\n",
        "  start = time.process_time()\n",
        "  print(\"Start time func1: \",start)\n",
        "  print('func1: starting')\n",
        "  for i in range(10000000): \n",
        "    pass\n",
        "  print('func1: finishing')\n",
        "  end = time.process_time()\n",
        "  print(\"end time func1: \",end)\n",
        "  print(\"time taken for func1: \",end-start)\n",
        "\n",
        "@ray.remote\n",
        "def func2():\n",
        "  start = time.process_time()\n",
        "  print(\"start time func2: \",start)\n",
        "  print('func2: starting')\n",
        "  for i in range(10000000): \n",
        "    pass\n",
        "  print('func2: finishing')\n",
        "  end = time.process_time()\n",
        "  print(\"end time func2: \",end)\n",
        "  print(\"time taken for func2: \",end-start)"
      ],
      "execution_count": 59,
      "outputs": []
    },
    {
      "cell_type": "code",
      "metadata": {
        "id": "dUF1AFEVbi8L",
        "colab_type": "code",
        "colab": {
          "base_uri": "https://localhost:8080/",
          "height": 199
        },
        "outputId": "810b341b-d36b-4032-dc71-1d549ca52727"
      },
      "source": [
        "ray.get([func1.remote(), func2.remote()])"
      ],
      "execution_count": 60,
      "outputs": [
        {
          "output_type": "stream",
          "text": [
            "\u001b[2m\u001b[36m(pid=1042)\u001b[0m start time func2:  0.763296694\n",
            "\u001b[2m\u001b[36m(pid=1042)\u001b[0m func2: starting\n",
            "\u001b[2m\u001b[36m(pid=1041)\u001b[0m Start time func1:  0.7604272750000001\n",
            "\u001b[2m\u001b[36m(pid=1041)\u001b[0m func1: starting\n"
          ],
          "name": "stdout"
        },
        {
          "output_type": "execute_result",
          "data": {
            "text/plain": [
              "[None, None]"
            ]
          },
          "metadata": {
            "tags": []
          },
          "execution_count": 60
        },
        {
          "output_type": "stream",
          "text": [
            "\u001b[2m\u001b[36m(pid=1042)\u001b[0m func2: finishing\n",
            "\u001b[2m\u001b[36m(pid=1042)\u001b[0m end time func2:  1.144050013\n",
            "\u001b[2m\u001b[36m(pid=1042)\u001b[0m time taken for func2:  0.380753319\n",
            "\u001b[2m\u001b[36m(pid=1041)\u001b[0m func1: finishing\n",
            "\u001b[2m\u001b[36m(pid=1041)\u001b[0m end time func1:  1.142830652\n",
            "\u001b[2m\u001b[36m(pid=1041)\u001b[0m time taken for func1:  0.38240337699999993\n"
          ],
          "name": "stdout"
        }
      ]
    },
    {
      "cell_type": "code",
      "metadata": {
        "id": "86fMbdyTbswy",
        "colab_type": "code",
        "colab": {}
      },
      "source": [
        "ray.shutdown()"
      ],
      "execution_count": 61,
      "outputs": []
    },
    {
      "cell_type": "markdown",
      "metadata": {
        "id": "UkzxikmZm8bK",
        "colab_type": "text"
      },
      "source": [
        "Here also the func2 is started and the func is also started before func2 ends! They are running simultaneously!!"
      ]
    }
  ]
}